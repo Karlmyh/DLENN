{
 "cells": [
  {
   "cell_type": "code",
   "execution_count": 5,
   "id": "8e143fb0",
   "metadata": {},
   "outputs": [
    {
     "name": "stdout",
     "output_type": "stream",
     "text": [
      "mpg_scale.csv\n",
      "portfolio.csv\n",
      "building.csv\n",
      "yacht.csv\n",
      "algerian.csv\n",
      "communities.csv\n"
     ]
    }
   ],
   "source": [
    "\n",
    "import numpy as np \n",
    "import pandas as pd\n",
    "from time import time\n",
    "import os\n",
    "from sklearn.preprocessing import MinMaxScaler\n",
    "from sklearn.model_selection import train_test_split\n",
    "from sklearn.model_selection import GridSearchCV\n",
    "from sklearn.metrics import mean_squared_error as MSE\n",
    "import random\n",
    "from sklearn.metrics import mean_squared_error\n",
    "from DLENN import DLENN\n",
    "from sklearn.neighbors import KNeighborsRegressor\n",
    "\n",
    "\n",
    "data_file_dir = \"./data/\"\n",
    "repeat_times = 20\n",
    "\n",
    "data_file_name_seq = [\n",
    "    'housing_scale.csv',\n",
    " 'mpg_scale.csv',\n",
    " 'airfoil.csv',\n",
    " 'space_ga_scale.csv',\n",
    " 'whitewine.csv',\n",
    " 'dakbilgic.csv',\n",
    " 'mg_scale.csv',\n",
    " 'bias.csv',\n",
    " 'cpusmall_scale.csv',                     \n",
    " 'aquatic.csv',\n",
    " 'music.csv',\n",
    " 'redwine.csv',\n",
    " 'ccpp.csv',\n",
    " 'concrete.csv',\n",
    " 'portfolio.csv',\n",
    " 'building.csv',\n",
    " 'yacht.csv',\n",
    " 'abalone.csv',\n",
    " 'algerian.csv',\n",
    " 'fish.csv',\n",
    " 'communities.csv',\n",
    " 'forestfires.csv',\n",
    " 'cbm.csv']\n",
    "\n",
    "log_file = \"./results/realdata.csv\"\n",
    "\n",
    "\n",
    "\n",
    "\n",
    "\n",
    "for data_file_name in data_file_name_seq:\n",
    "\n",
    "    path = os.path.join(data_file_dir, data_file_name)\n",
    "    data = pd.read_csv(path, header=None)\n",
    "    data = np.array(data, dtype = \"float\")\n",
    "    X = data[:,1:]\n",
    "    if X.shape[0]< 400:\n",
    "        print(data_file_name)\n",
    "    "
   ]
  },
  {
   "cell_type": "code",
   "execution_count": 8,
   "id": "2af673b7",
   "metadata": {},
   "outputs": [
    {
     "name": "stdout",
     "output_type": "stream",
     "text": [
      "[    4     7    17 ... 11899 11926 11927]\n",
      "[    6    10    16 ... 11923 11929 11932]\n",
      "[    1     3     5 ... 11912 11916 11922]\n",
      "[    8     9    12 ... 11930 11931 11933]\n",
      "[    0     2    15 ... 11915 11918 11928]\n"
     ]
    }
   ],
   "source": [
    "from sklearn.model_selection import KFold\n",
    "kfolder = KFold(n_splits =5 , random_state = 1, shuffle = True)\n",
    "\n",
    "for i, (_, test_index) in enumerate(kfolder.split(X)):\n",
    "    print(test_index)"
   ]
  },
  {
   "cell_type": "code",
   "execution_count": null,
   "id": "d779fed4",
   "metadata": {},
   "outputs": [],
   "source": []
  }
 ],
 "metadata": {
  "kernelspec": {
   "display_name": "Python 3",
   "language": "python",
   "name": "python3"
  },
  "language_info": {
   "codemirror_mode": {
    "name": "ipython",
    "version": 3
   },
   "file_extension": ".py",
   "mimetype": "text/x-python",
   "name": "python",
   "nbconvert_exporter": "python",
   "pygments_lexer": "ipython3",
   "version": "3.7.9"
  }
 },
 "nbformat": 4,
 "nbformat_minor": 5
}
