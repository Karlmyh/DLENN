{
 "cells": [
  {
   "cell_type": "code",
   "execution_count": 1,
   "id": "9cf1ef66",
   "metadata": {},
   "outputs": [],
   "source": [
    "from FLENN import FLENN\n",
    "\n",
    "from IPython.core.interactiveshell import InteractiveShell\n",
    "InteractiveShell.ast_node_interactivity = \"all\"\n",
    "\n",
    "import os\n",
    "import matplotlib.ticker as mtick\n",
    "import numpy as np\n",
    "from time import time\n",
    "import math\n",
    "from matplotlib import patches\n",
    "import matplotlib.pyplot as plt\n",
    "import seaborn as sns\n",
    "import pandas as pd\n",
    "from mpl_toolkits.mplot3d import Axes3D\n",
    "from matplotlib import cm\n",
    "from matplotlib.ticker import LinearLocator, FormatStrFormatter\n",
    "import glob\n",
    "from sklearn.preprocessing import MinMaxScaler\n",
    "from distribution import TestDistribution\n",
    "from sklearn.neighbors import KNeighborsRegressor\n",
    "from sklearn.metrics import mean_squared_error\n",
    "from sklearn.model_selection import GridSearchCV\n"
   ]
  },
  {
   "cell_type": "code",
   "execution_count": 2,
   "id": "6d38c7c4",
   "metadata": {},
   "outputs": [],
   "source": [
    "n_train_vec = [6000,4000,2000]\n",
    "n_test = 5000\n",
    "\n",
    "X_train_vec = [np.random.rand(n_train).reshape(-1, 1) for n_train in n_train_vec]\n",
    "y_train_vec = [np.sin(X_train[:,0]) + np.random.normal(size = X_train.shape[0]) for X_train in X_train_vec]\n",
    "\n",
    "X_test = np.random.rand(n_test).reshape(-1, 1)\n",
    "y_test = np.sin(X_test[:,0])+ np.random.normal(size = X_test.shape[0])"
   ]
  },
  {
   "cell_type": "code",
   "execution_count": 3,
   "id": "5a3f543b",
   "metadata": {},
   "outputs": [
    {
     "data": {
      "text/plain": [
       "0.9624066531302429"
      ]
     },
     "execution_count": 3,
     "metadata": {},
     "output_type": "execute_result"
    }
   ],
   "source": [
    "model = FLENN(k = 100, weighting_scheme = \"uniform\").fit(X_train_vec, y_train_vec)\n",
    "mean_squared_error(model.predict(X_test), y_test)"
   ]
  },
  {
   "cell_type": "code",
   "execution_count": 4,
   "id": "50056301",
   "metadata": {},
   "outputs": [
    {
     "data": {
      "text/plain": [
       "0.9624066531302429"
      ]
     },
     "execution_count": 4,
     "metadata": {},
     "output_type": "execute_result"
    }
   ],
   "source": [
    "model = FLENN(k = 100, lamda = 0.1, weighting_scheme = \"extrapolated\").fit(X_train_vec, y_train_vec)\n",
    "mean_squared_error(model.predict(X_test), y_test)"
   ]
  },
  {
   "cell_type": "code",
   "execution_count": 5,
   "id": "e2b0e718",
   "metadata": {},
   "outputs": [
    {
     "data": {
      "text/plain": [
       "0.9638455795701911"
      ]
     },
     "execution_count": 5,
     "metadata": {},
     "output_type": "execute_result"
    }
   ],
   "source": [
    "weights_vec = np.array([6000,4000,2000])**(-2/(1+2))\n",
    "weights_vec = weights_vec / weights_vec.sum()\n",
    "model.weights  = weights_vec\n",
    "mean_squared_error(model.predict(X_test), y_test)"
   ]
  },
  {
   "cell_type": "code",
   "execution_count": 7,
   "id": "9823134e",
   "metadata": {},
   "outputs": [
    {
     "name": "stdout",
     "output_type": "stream",
     "text": [
      "920.6654264900427\n"
     ]
    }
   ],
   "source": [
    "uniform_sum = 0\n",
    "extrapolation_sum = 0\n",
    "cauchy_sum = 0\n",
    "knn_sum = 0\n",
    "federate_sum = 0\n",
    "sample_generator=TestDistribution(3).returnDistribution()\n",
    "n_train = 10000\n",
    "n_test = 1000\n",
    "np.random.seed(1)\n",
    "for _ in range(1):\n",
    "    \n",
    "        \n",
    "    X_train, y_train = sample_generator.generate(n_train)\n",
    "    X_test, y_test = sample_generator.generate(n_test)\n",
    "\n",
    "    model = FLENN(portion_vec = [0.5,0.33,0.17], weighting_scheme = \"uniform\", smooth_order = 2).fit(X_train, y_train)\n",
    "    uniform_sum += mean_squared_error(model.predict(X_test), y_test)\n",
    "    \n",
    "    params = {\"lamda\" : [0.0001,0.0005,0.001,0.002,0.005,0.01,0.02,0.05,0.1,0.2,0.5,1,2,5],\n",
    "             \"portion_vec\" : [[0.5,0.33,0.17]],\n",
    "             \"weighting_scheme\" : [\"extrapolated\"],\n",
    "             \"smooth_order\" : [2]}\n",
    "    cv_regressor = GridSearchCV(estimator = FLENN(), param_grid = params, cv = 10, n_jobs = 21)\n",
    "    _ = cv_regressor.fit(X_train, y_train)\n",
    "    model = cv_regressor.best_estimator_\n",
    "    extrapolation_sum += mean_squared_error(model.predict(X_test), y_test)\n",
    "    print(mean_squared_error(model.predict(X_test), y_test))\n",
    "\n",
    "    weights_vec = np.array([6000,4000,2000])**(2/(1+2))\n",
    "    weights_vec = weights_vec / weights_vec.sum()\n",
    "    model.weights  = weights_vec\n",
    "    cauchy_sum += mean_squared_error(model.predict(X_test), y_test)\n",
    "    \n",
    "    \n",
    "    weights_vec = np.array([6000,4000,2000])\n",
    "    weights_vec = weights_vec / weights_vec.sum()\n",
    "    model.weights  = weights_vec\n",
    "    federate_sum += mean_squared_error(model.predict(X_test), y_test)\n",
    "    \n",
    "#     params = {\"n_neighbors\":[40,60,80,100,120,150,200,250,300,350,400,450]}\n",
    "#     cv_regressor = GridSearchCV(estimator = KNeighborsRegressor(), param_grid = params, cv = 3)\n",
    "#     _ = cv_regressor.fit(X_train, y_train)\n",
    "#     knn_sum += mean_squared_error(cv_regressor.best_estimator_.predict(X_test), y_test)"
   ]
  },
  {
   "cell_type": "code",
   "execution_count": 4,
   "id": "5e1d7e0f",
   "metadata": {},
   "outputs": [
    {
     "data": {
      "text/plain": [
       "(1036.591022325106,\n",
       " 920.6654264900427,\n",
       " 942.3070105922814,\n",
       " 1163.9343473734623,\n",
       " 926.3083536548419)"
      ]
     },
     "execution_count": 4,
     "metadata": {},
     "output_type": "execute_result"
    }
   ],
   "source": [
    "uniform_sum, extrapolation_sum, cauchy_sum, knn_sum, federate_sum"
   ]
  },
  {
   "cell_type": "code",
   "execution_count": 8,
   "id": "264f10c3",
   "metadata": {},
   "outputs": [
    {
     "data": {
      "text/plain": [
       "2"
      ]
     },
     "execution_count": 8,
     "metadata": {},
     "output_type": "execute_result"
    }
   ],
   "source": [
    "cv_regressor.best_params_[\"smooth_order\"]"
   ]
  },
  {
   "cell_type": "code",
   "execution_count": null,
   "id": "3685c000",
   "metadata": {},
   "outputs": [],
   "source": []
  },
  {
   "cell_type": "code",
   "execution_count": null,
   "id": "93e64d3b",
   "metadata": {},
   "outputs": [],
   "source": []
  },
  {
   "cell_type": "code",
   "execution_count": null,
   "id": "adefa49f",
   "metadata": {},
   "outputs": [],
   "source": []
  },
  {
   "cell_type": "code",
   "execution_count": null,
   "id": "3f555ba3",
   "metadata": {},
   "outputs": [],
   "source": []
  },
  {
   "cell_type": "code",
   "execution_count": 68,
   "id": "de173cdf",
   "metadata": {},
   "outputs": [
    {
     "name": "stdout",
     "output_type": "stream",
     "text": [
      "0\n",
      "1\n",
      "2\n",
      "3\n",
      "4\n",
      "5\n",
      "6\n",
      "7\n",
      "8\n",
      "9\n",
      "10\n",
      "11\n",
      "12\n",
      "13\n",
      "14\n",
      "15\n",
      "16\n",
      "17\n",
      "18\n",
      "19\n",
      "20\n",
      "21\n",
      "22\n",
      "23\n",
      "24\n",
      "25\n",
      "26\n",
      "27\n",
      "28\n",
      "29\n",
      "30\n",
      "31\n",
      "32\n",
      "33\n",
      "34\n",
      "35\n",
      "36\n",
      "37\n",
      "38\n",
      "39\n"
     ]
    }
   ],
   "source": [
    "\n",
    "\n",
    "statistic_vec = []\n",
    "mse_base_vec = []\n",
    "mse_vec = []\n",
    "sample_generator=TestDistribution(3).returnDistribution()\n",
    "n_train = 10000\n",
    "n_test = 2000\n",
    "np.random.seed(1)\n",
    "for i in range(40):\n",
    "    \n",
    "    print(i)\n",
    "    X_train, y_train = sample_generator.generate(n_train)\n",
    "    X_test, y_test = sample_generator.generate(n_test)\n",
    "    \n",
    "    L = 3\n",
    "    portion_vec = np.random.rand(L)             \n",
    "    portion_vec = portion_vec / np.linalg.norm(portion_vec, ord = 1)\n",
    "    \n",
    "    \n",
    "    \n",
    "    R_1 = np.array([[r**i for i in range(L) ] for r in portion_vec])\n",
    "    det_1 = np.linalg.det(R_1.T @ R_1)\n",
    "    R_2 = np.array([[r**i for i in range(1,L) ] for r in portion_vec])\n",
    "    det_2 = np.linalg.det(R_2.T @ R_2)\n",
    "    \n",
    "    statistic_vec.append( L**0.5 * det_2 / det_1 * np.sum((portion_vec * n_train)**(-2/(2+4)))  + np.sum((portion_vec * n_train)**(-2 * 4  / ( 2 + 4))))\n",
    "    \n",
    "    \n",
    "#     params = {\"lamda\" : [0.0001,0.0005,0.001,0.002,0.005,0.01,0.02,0.05,0.1,0.2,0.5,1,2,5],\n",
    "#              \"portion_vec\" : [portion_vec],\n",
    "#              \"weighting_scheme\" : [\"extrapolated\"],\n",
    "#              \"smooth_order\" : [L]}\n",
    "    params = {\"lamda\" : [0],\n",
    "             \"portion_vec\" : [portion_vec],\n",
    "             \"weighting_scheme\" : [\"extrapolated\"],\n",
    "             \"smooth_order\" : [L]}\n",
    "    cv_regressor = GridSearchCV(estimator = FLENN(), param_grid = params, cv = 10, n_jobs = 21)\n",
    "    _ = cv_regressor.fit(X_train, y_train)\n",
    "    model = cv_regressor.best_estimator_\n",
    "    \n",
    "    mse_vec.append(mean_squared_error(model.predict(X_test), y_test))\n",
    "    \n",
    "#     params = {\"lamda\" : [0.0001,0.0005,0.001,0.002,0.005,0.01,0.02,0.05,0.1,0.2,0.5,1,2,5],\n",
    "#              \"portion_vec\" : [[0.1,0.3,0.6]],\n",
    "#              \"weighting_scheme\" : [\"extrapolated\"],\n",
    "#              \"smooth_order\" : [L]}\n",
    "#     cv_regressor = GridSearchCV(estimator = FLENN(), param_grid = params, cv = 10, n_jobs = 21)\n",
    "#     _ = cv_regressor.fit(X_train, y_train)\n",
    "#     model = cv_regressor.best_estimator_\n",
    "#     mse_base_vec.append(mean_squared_error(model.predict(X_test), y_test))"
   ]
  },
  {
   "cell_type": "code",
   "execution_count": 69,
   "id": "10393f9a",
   "metadata": {},
   "outputs": [],
   "source": [
    "statistic_vec = np.array(statistic_vec)\n",
    "mse_vec = np.array(mse_vec)"
   ]
  },
  {
   "cell_type": "code",
   "execution_count": 70,
   "id": "ea50ada3",
   "metadata": {},
   "outputs": [
    {
     "data": {
      "text/plain": [
       "<matplotlib.collections.PathCollection at 0x7faec8451590>"
      ]
     },
     "execution_count": 70,
     "metadata": {},
     "output_type": "execute_result"
    },
    {
     "data": {
      "image/png": "[encoded data removed]",
      "text/plain": [
       "<Figure size 432x288 with 1 Axes>"
      ]
     },
     "metadata": {
      "needs_background": "light"
     },
     "output_type": "display_data"
    }
   ],
   "source": [
    "plt.scatter(np.log(statistic_vec),np.log(mse_vec))"
   ]
  },
  {
   "cell_type": "code",
   "execution_count": 71,
   "id": "f3cd9d69",
   "metadata": {},
   "outputs": [
    {
     "data": {
      "text/plain": [
       "array([[1.        , 0.94285652],\n",
       "       [0.94285652, 1.        ]])"
      ]
     },
     "execution_count": 71,
     "metadata": {},
     "output_type": "execute_result"
    }
   ],
   "source": [
    "np.corrcoef(statistic_vec,mse_vec)"
   ]
  },
  {
   "cell_type": "code",
   "execution_count": 72,
   "id": "a793b123",
   "metadata": {},
   "outputs": [
    {
     "data": {
      "text/plain": [
       "array([[1.        , 0.89865007],\n",
       "       [0.89865007, 1.        ]])"
      ]
     },
     "execution_count": 72,
     "metadata": {},
     "output_type": "execute_result"
    }
   ],
   "source": [
    "np.corrcoef(np.log(statistic_vec),np.log(mse_vec))"
   ]
  },
  {
   "cell_type": "code",
   "execution_count": null,
   "id": "921e8b67",
   "metadata": {},
   "outputs": [],
   "source": []
  },
  {
   "cell_type": "code",
   "execution_count": null,
   "id": "8b860855",
   "metadata": {},
   "outputs": [],
   "source": []
  },
  {
   "cell_type": "code",
   "execution_count": null,
   "id": "e569781d",
   "metadata": {},
   "outputs": [],
   "source": []
  },
  {
   "cell_type": "code",
   "execution_count": 64,
   "id": "d0f620ff",
   "metadata": {},
   "outputs": [
    {
     "name": "stdout",
     "output_type": "stream",
     "text": [
      "0\n",
      "1\n",
      "2\n",
      "3\n",
      "4\n",
      "5\n",
      "6\n",
      "7\n",
      "8\n",
      "9\n",
      "10\n",
      "11\n",
      "12\n",
      "13\n",
      "14\n",
      "15\n",
      "16\n",
      "17\n",
      "18\n",
      "19\n",
      "20\n",
      "21\n",
      "22\n",
      "23\n",
      "24\n",
      "25\n",
      "26\n",
      "27\n",
      "28\n",
      "29\n",
      "30\n",
      "31\n",
      "32\n",
      "33\n",
      "34\n",
      "35\n",
      "36\n",
      "37\n",
      "38\n",
      "39\n"
     ]
    }
   ],
   "source": [
    "\n",
    "\n",
    "statistic_vec = []\n",
    "mse_base_vec = []\n",
    "mse_vec = []\n",
    "sample_generator=TestDistribution(3).returnDistribution()\n",
    "n_train = 10000\n",
    "n_test = 2000\n",
    "np.random.seed(1)\n",
    "for i in range(40):\n",
    "    \n",
    "    print(i)\n",
    "    X_train, y_train = sample_generator.generate(n_train)\n",
    "    X_test, y_test = sample_generator.generate(n_test)\n",
    "    \n",
    "    L = 3\n",
    "    portion_vec = np.random.rand(L)             \n",
    "    portion_vec = portion_vec / np.linalg.norm(portion_vec, ord = 1)\n",
    "    \n",
    "    \n",
    "    \n",
    "    R_1 = np.array([[r**i for i in range(L) ] for r in portion_vec])\n",
    "    det_1 = np.linalg.det(R_1.T @ R_1)\n",
    "    R_2 = np.array([[r**i for i in range(1,L) ] for r in portion_vec])\n",
    "    det_2 = np.linalg.det(R_2.T @ R_2)\n",
    "    \n",
    "    statistic_vec.append( L**0.5 * det_2 / det_1 * np.sum((portion_vec * n_train)**(-2/(2+4)))  + np.sum((portion_vec * n_train)**(-2 * 4  / ( 2 + 4))))\n",
    "    \n",
    "    \n",
    "    params = {\"lamda\" : [0.0001,0.0005,0.001,0.002,0.005,0.01,0.02,0.05,0.1,0.2,0.5,1,2,5],\n",
    "             \"portion_vec\" : [portion_vec],\n",
    "             \"weighting_scheme\" : [\"extrapolated\"],\n",
    "             \"smooth_order\" : [L]}\n",
    "    \n",
    "    cv_regressor = GridSearchCV(estimator = FLENN(), param_grid = params, cv = 10, n_jobs = 21)\n",
    "    _ = cv_regressor.fit(X_train, y_train)\n",
    "    model = cv_regressor.best_estimator_\n",
    "    \n",
    "    mse_vec.append(mean_squared_error(model.predict(X_test), y_test))\n",
    "    \n",
    "#     params = {\"lamda\" : [0.0001,0.0005,0.001,0.002,0.005,0.01,0.02,0.05,0.1,0.2,0.5,1,2,5],\n",
    "#              \"portion_vec\" : [[0.1,0.3,0.6]],\n",
    "#              \"weighting_scheme\" : [\"extrapolated\"],\n",
    "#              \"smooth_order\" : [L]}\n",
    "#     cv_regressor = GridSearchCV(estimator = FLENN(), param_grid = params, cv = 10, n_jobs = 21)\n",
    "#     _ = cv_regressor.fit(X_train, y_train)\n",
    "#     model = cv_regressor.best_estimator_\n",
    "#     mse_base_vec.append(mean_squared_error(model.predict(X_test), y_test))"
   ]
  },
  {
   "cell_type": "code",
   "execution_count": 66,
   "id": "45b4fa40",
   "metadata": {},
   "outputs": [
    {
     "data": {
      "text/plain": [
       "array([[1.        , 0.11039403],\n",
       "       [0.11039403, 1.        ]])"
      ]
     },
     "execution_count": 66,
     "metadata": {},
     "output_type": "execute_result"
    }
   ],
   "source": [
    "np.corrcoef(statistic_vec, mse_vec)"
   ]
  },
  {
   "cell_type": "code",
   "execution_count": null,
   "id": "51f31705",
   "metadata": {},
   "outputs": [],
   "source": []
  }
 ],
 "metadata": {
  "kernelspec": {
   "display_name": "Python 3",
   "language": "python",
   "name": "python3"
  },
  "language_info": {
   "codemirror_mode": {
    "name": "ipython",
    "version": 3
   },
   "file_extension": ".py",
   "mimetype": "text/x-python",
   "name": "python",
   "nbconvert_exporter": "python",
   "pygments_lexer": "ipython3",
   "version": "3.7.9"
  }
 },
 "nbformat": 4,
 "nbformat_minor": 5
}
