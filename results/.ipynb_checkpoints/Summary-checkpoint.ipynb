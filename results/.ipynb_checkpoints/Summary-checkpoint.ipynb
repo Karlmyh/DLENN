{
 "cells": [
  {
   "cell_type": "code",
   "execution_count": 10,
   "id": "4b50a71d",
   "metadata": {},
   "outputs": [
    {
     "name": "stdout",
     "output_type": "stream",
     "text": [
      "                             mean                                      \n",
      "                              mse                                      \n",
      "method                     cauchy extrapolation   federated     uniform\n",
      "dataset   portion_idx                                                  \n",
      "abalone   0             5.0861435     5.0499797    5.050296    5.120865\n",
      "          1             5.2030716      5.091165    5.088051    5.265229\n",
      "          2              5.230649     5.1761937   5.1862664   5.2537546\n",
      "          3             5.1927695      5.104363     5.10475   5.2432165\n",
      "airfoil   0             11.582081     10.023884   10.033759   13.069772\n",
      "...                           ...           ...         ...         ...\n",
      "whitewine 4             0.5660841    0.56204855   0.5626449   0.5670855\n",
      "yacht     0             100.91061     95.669624    98.58478   103.03451\n",
      "          1            101.940094     100.65366    98.97752   104.34581\n",
      "          2            101.139885      99.84711  100.502205  101.862076\n",
      "          3             100.09201     101.72776    99.33953    101.7769\n",
      "\n",
      "[106 rows x 4 columns]\n"
     ]
    }
   ],
   "source": [
    "import os\n",
    "import numpy as np \n",
    "import pandas as pd\n",
    "import glob\n",
    "from scipy.stats import wilcoxon\n",
    "\n",
    "\n",
    "\n",
    "def split_csv(string):\n",
    "    return string.split(\".\")[0]\n",
    "\n",
    "\n",
    "######## read the log file\n",
    "report_dataset = ['housing_scale', 'mpg_scale', 'airfoil', 'space_ga_scale', 'whitewine', \n",
    "                  'dakbilgic', 'mg_scale', 'bias', 'cpusmall_scale', 'aquatic', 'music', \n",
    "                  'redwine', 'ccpp', 'concrete', 'portfolio', 'building', 'yacht', \n",
    "                  'abalone', 'algerian', 'fish', 'communities', 'forestfires', 'cbm']\n",
    "report_method = [\"uniform\", \"cauchy\", \"federated\",  \"extrapolation\"]\n",
    "log_file_dir = \"./realdata.csv\"   \n",
    "log = pd.read_csv(log_file_dir, header=None)\n",
    "log.columns = \"iterate,time,mse,n_train,n_test,dataset,method,portion_idx\".split(',')\n",
    "log[\"dataset\"] = log[\"dataset\"].apply(split_csv)\n",
    "\n",
    "\n",
    "######## filter the results to display\n",
    "summarize_log = log.copy()\n",
    "summarize_log = summarize_log[summarize_log[\"dataset\"].isin(report_dataset)]\n",
    "summarize_log = summarize_log[summarize_log[\"method\"].isin(report_method)]\n",
    "summarize_log[\"mse\"] = np.array( summarize_log[\"mse\"], dtype = \"float32\")\n",
    "\n",
    "######## to pivot table \n",
    "summary = pd.pivot_table(summarize_log, index=[\"dataset\", \"portion_idx\"],columns=[\"method\"], values=[ \"mse\"], aggfunc=[np.mean])\n",
    "str_summary = summary.astype(\"string\")\n",
    "\n",
    "\n",
    "\n",
    "\n",
    "str_summary\n",
    "    "
   ]
  },
  {
   "cell_type": "code",
   "execution_count": 5,
   "id": "5dd62607",
   "metadata": {},
   "outputs": [
    {
     "data": {
      "text/plain": [
       "[1, 2]"
      ]
     },
     "execution_count": 5,
     "metadata": {},
     "output_type": "execute_result"
    }
   ],
   "source": [
    "a = [1,2,3]\n",
    "[i for i in a if i**2 < 5]"
   ]
  },
  {
   "cell_type": "code",
   "execution_count": null,
   "id": "a65c1899",
   "metadata": {},
   "outputs": [],
   "source": []
  }
 ],
 "metadata": {
  "kernelspec": {
   "display_name": "Python 3",
   "language": "python",
   "name": "python3"
  },
  "language_info": {
   "codemirror_mode": {
    "name": "ipython",
    "version": 3
   },
   "file_extension": ".py",
   "mimetype": "text/x-python",
   "name": "python",
   "nbconvert_exporter": "python",
   "pygments_lexer": "ipython3",
   "version": "3.7.9"
  }
 },
 "nbformat": 4,
 "nbformat_minor": 5
}
