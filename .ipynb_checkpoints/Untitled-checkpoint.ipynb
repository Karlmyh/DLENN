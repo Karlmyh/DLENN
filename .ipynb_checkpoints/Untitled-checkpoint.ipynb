{
 "cells": [
  {
   "cell_type": "code",
   "execution_count": 1,
   "id": "5e46e604",
   "metadata": {},
   "outputs": [
    {
     "ename": "SyntaxError",
     "evalue": "invalid syntax (_DLENN.py, line 6)",
     "output_type": "error",
     "traceback": [
      "Traceback \u001b[0;36m(most recent call last)\u001b[0m:\n",
      "  File \u001b[1;32m\"/home/karl/anaconda3/lib/python3.7/site-packages/IPython/core/interactiveshell.py\"\u001b[0m, line \u001b[1;32m3418\u001b[0m, in \u001b[1;35mrun_code\u001b[0m\n    exec(code_obj, self.user_global_ns, self.user_ns)\n",
      "  File \u001b[1;32m\"<ipython-input-1-059895ccbbbb>\"\u001b[0m, line \u001b[1;32m13\u001b[0m, in \u001b[1;35m<module>\u001b[0m\n    from DLENN import DLENN\n",
      "\u001b[0;36m  File \u001b[0;32m\"/home/karl/DLENN/DLENN/__init__.py\"\u001b[0;36m, line \u001b[0;32m1\u001b[0;36m, in \u001b[0;35m<module>\u001b[0;36m\u001b[0m\n\u001b[0;31m    from ._DLENN import DLENN\u001b[0m\n",
      "\u001b[0;36m  File \u001b[0;32m\"/home/karl/DLENN/DLENN/_DLENN.py\"\u001b[0;36m, line \u001b[0;32m6\u001b[0m\n\u001b[0;31m    rom sklearn.model_selection import KFold\u001b[0m\n\u001b[0m              ^\u001b[0m\n\u001b[0;31mSyntaxError\u001b[0m\u001b[0;31m:\u001b[0m invalid syntax\n"
     ]
    }
   ],
   "source": [
    "#!usr/bin/python\n",
    "# -*- coding: utf-8 -*-\n",
    "import numpy as np \n",
    "import pandas as pd\n",
    "from time import time\n",
    "import os\n",
    "from sklearn.preprocessing import MinMaxScaler\n",
    "from sklearn.model_selection import train_test_split\n",
    "from sklearn.model_selection import GridSearchCV\n",
    "from sklearn.metrics import mean_squared_error as MSE\n",
    "import random\n",
    "from sklearn.metrics import mean_squared_error\n",
    "from DLENN import DLENN\n",
    "from sklearn.neighbors import KNeighborsRegressor\n",
    "\n",
    "\n",
    "data_file_dir = \"./data/\"\n",
    "repeat_times = 20\n",
    "\n",
    "data_file_name_seq = [\n",
    "    'housing_scale.csv',\n",
    " 'mpg_scale.csv',\n",
    " 'airfoil.csv',\n",
    " 'space_ga_scale.csv',\n",
    " 'whitewine.csv',\n",
    " 'dakbilgic.csv',\n",
    " 'mg_scale.csv',\n",
    " 'bias.csv',\n",
    " 'cpusmall_scale.csv',                     \n",
    " 'aquatic.csv',\n",
    " 'music.csv',\n",
    " 'redwine.csv',\n",
    " 'ccpp.csv',\n",
    " 'concrete.csv',\n",
    " 'portfolio.csv',\n",
    " 'building.csv',\n",
    " 'yacht.csv',\n",
    " 'abalone.csv',\n",
    " 'algerian.csv',\n",
    " 'fish.csv',\n",
    " 'communities.csv',\n",
    " 'forestfires.csv',\n",
    " 'cbm.csv']\n",
    "\n",
    "log_file = \"./results/realdata.csv\"\n",
    "\n",
    "\n",
    "\n",
    "\n",
    "\n",
    "for data_file_name in data_file_name_seq:\n",
    "\n",
    "    path = os.path.join(data_file_dir, data_file_name)\n",
    "    data = pd.read_csv(path, header=None)\n",
    "    data = np.array(data, dtype = \"float\")\n",
    "    X = data[:,1:]\n",
    "    print(data_file_name)\n",
    "    print(X.shape)"
   ]
  },
  {
   "cell_type": "code",
   "execution_count": null,
   "id": "617eca70",
   "metadata": {},
   "outputs": [],
   "source": []
  }
 ],
 "metadata": {
  "kernelspec": {
   "display_name": "Python 3",
   "language": "python",
   "name": "python3"
  },
  "language_info": {
   "codemirror_mode": {
    "name": "ipython",
    "version": 3
   },
   "file_extension": ".py",
   "mimetype": "text/x-python",
   "name": "python",
   "nbconvert_exporter": "python",
   "pygments_lexer": "ipython3",
   "version": "3.7.9"
  }
 },
 "nbformat": 4,
 "nbformat_minor": 5
}
